{
 "cells": [
  {
   "cell_type": "code",
   "execution_count": 4,
   "metadata": {},
   "outputs": [],
   "source": [
    "import csv\n",
    "import pickle\n",
    "import re\n",
    "from sklearn.svm import LinearSVC"
   ]
  },
  {
   "cell_type": "code",
   "execution_count": 5,
   "metadata": {},
   "outputs": [],
   "source": [
    "with open('data/adult.data') as f:\n",
    "    train_data = list(csv.reader(f, skipinitialspace=True))\n",
    "with open('data/adult.test') as f:\n",
    "    test_data = list(csv.reader(f, skipinitialspace=True))"
   ]
  },
  {
   "cell_type": "code",
   "execution_count": 6,
   "metadata": {},
   "outputs": [],
   "source": [
    "def parse(data):\n",
    "    X = [m[:-1] for m in data if len(m) > 1]\n",
    "    y = [1 if m[-1] == '>50K' or m[-1] == '>50K.' else 0 for m in data if len(m) > 1]\n",
    "    assert(len(X) == len(y))\n",
    "    return X, y"
   ]
  },
  {
   "cell_type": "code",
   "execution_count": 11,
   "metadata": {},
   "outputs": [],
   "source": [
    "class CategoricalEncoder:\n",
    "    def __init__(self, categorical_features):\n",
    "        self.non_categorical_converter = int\n",
    "        self.features = categorical_features\n",
    "        \n",
    "    def fit(self, items):\n",
    "        self.feature_map = {c: sorted(list(set(item[c] for item in items))) for c in self.features}\n",
    "        return self\n",
    "        \n",
    "    def transform(self, items):\n",
    "        output = []\n",
    "        for item in items:\n",
    "            new_item = []\n",
    "            for i in range(len(item)):\n",
    "                if i in self.features:\n",
    "                    new_item.append(self.feature_map[i].index(item[i]))\n",
    "                else:\n",
    "                    new_item.append(self.non_categorical_converter(item[i]))\n",
    "            output.append(new_item)\n",
    "        return output"
   ]
  },
  {
   "cell_type": "code",
   "execution_count": 8,
   "metadata": {
    "collapsed": true
   },
   "outputs": [],
   "source": [
    "categorical_features = [1, 3, 5, 6, 7, 8, 9, 13]"
   ]
  },
  {
   "cell_type": "code",
   "execution_count": 13,
   "metadata": {},
   "outputs": [],
   "source": [
    "train_X, train_y = parse(train_data)\n",
    "test_X, test_y = parse(test_data)\n",
    "\n",
    "encoder = CategoricalEncoder(categorical_features=categorical_features)\n",
    "encoder.fit(train_X)\n",
    "train_X = encoder.transform(train_X)\n",
    "test_X = encoder.transform(test_X)"
   ]
  },
  {
   "cell_type": "code",
   "execution_count": 14,
   "metadata": {},
   "outputs": [
    {
     "data": {
      "text/plain": [
       "LinearSVC(C=1.0, class_weight=None, dual=True, fit_intercept=True,\n",
       "     intercept_scaling=1, loss='squared_hinge', max_iter=1000,\n",
       "     multi_class='ovr', penalty='l2', random_state=None, tol=0.0001,\n",
       "     verbose=0)"
      ]
     },
     "execution_count": 14,
     "metadata": {},
     "output_type": "execute_result"
    }
   ],
   "source": [
    "clf = LinearSVC()\n",
    "clf.fit(train_X, train_y)"
   ]
  },
  {
   "cell_type": "code",
   "execution_count": 49,
   "metadata": {
    "collapsed": true
   },
   "outputs": [],
   "source": [
    "def convert_labels(labels, feature_map):\n",
    "    output = []\n",
    "    for i, label in enumerate(labels):\n",
    "        if i not in feature_map:\n",
    "            output.append(label)\n",
    "        else:\n",
    "            output += ['{}__{}'.format(label, re.sub('[^0-9a-zA-Z_]', '_', value)) for value in feature_map[i]]\n",
    "    return output"
   ]
  },
  {
   "cell_type": "code",
   "execution_count": 25,
   "metadata": {
    "collapsed": true
   },
   "outputs": [],
   "source": [
    "labels = '''age\n",
    "workclass\n",
    "fnlwgt\n",
    "education\n",
    "education-num\n",
    "marital-status\n",
    "occupation\n",
    "relationship\n",
    "race\n",
    "sex\n",
    "capital-gain\n",
    "capital-loss\n",
    "hours-per-week\n",
    "native-country'''.split('\\n')\n",
    "labels = [label.replace('-', '_') for label in labels]"
   ]
  },
  {
   "cell_type": "code",
   "execution_count": 20,
   "metadata": {},
   "outputs": [],
   "source": [
    "assert(len(labels) == len(train_X[0]))"
   ]
  },
  {
   "cell_type": "code",
   "execution_count": 21,
   "metadata": {},
   "outputs": [
    {
     "data": {
      "text/plain": [
       "0.78213868926970087"
      ]
     },
     "execution_count": 21,
     "metadata": {},
     "output_type": "execute_result"
    }
   ],
   "source": [
    "clf.score(test_X, test_y)"
   ]
  },
  {
   "cell_type": "code",
   "execution_count": 22,
   "metadata": {
    "scrolled": true
   },
   "outputs": [
    {
     "name": "stdout",
     "output_type": "stream",
     "text": [
      "[[ -1.13092721e-03  -8.54246856e-04  -3.76566920e-06  -2.26396669e-03\n",
      "   -8.44719676e-04  -1.47930310e-03  -1.03686808e-03  -1.41270445e-03\n",
      "   -7.37885479e-04   1.23471751e-04   9.93503667e-05   3.51233836e-04\n",
      "   -1.99181116e-03  -9.47669986e-03]]\n",
      "[-0.00026464]\n"
     ]
    }
   ],
   "source": [
    "print(clf.coef_)\n",
    "print(clf.intercept_)"
   ]
  },
  {
   "cell_type": "code",
   "execution_count": 26,
   "metadata": {},
   "outputs": [],
   "source": [
    "# Save converted data\n",
    "with open('data/adult.data.csv', 'w') as f:\n",
    "    writer = csv.writer(f)\n",
    "    writer.writerow(labels)\n",
    "    writer.writerows(train_X)\n",
    "with open('data/adult.data.labels.csv', 'w') as f:\n",
    "    csv.writer(f).writerow(train_y)\n",
    "with open('data/adult.test.csv', 'w') as f:\n",
    "    writer = csv.writer(f)\n",
    "    writer.writerow(labels)\n",
    "    writer.writerows(test_X)\n",
    "with open('data/adult.test.labels.csv', 'w') as f:\n",
    "    csv.writer(f).writerow(test_y)"
   ]
  },
  {
   "cell_type": "code",
   "execution_count": 24,
   "metadata": {},
   "outputs": [],
   "source": [
    "# Save classifier\n",
    "with open('classifiers/examples/adult_svm.pickle', 'wb') as f:\n",
    "    pickle.dump(clf, f)"
   ]
  }
 ],
 "metadata": {
  "kernelspec": {
   "display_name": "Python 3",
   "language": "python",
   "name": "python3"
  },
  "language_info": {
   "codemirror_mode": {
    "name": "ipython",
    "version": 3
   },
   "file_extension": ".py",
   "mimetype": "text/x-python",
   "name": "python",
   "nbconvert_exporter": "python",
   "pygments_lexer": "ipython3",
   "version": "3.6.1"
  }
 },
 "nbformat": 4,
 "nbformat_minor": 2
}
