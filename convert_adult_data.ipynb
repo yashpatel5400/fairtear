{
 "cells": [
  {
   "cell_type": "code",
   "execution_count": 85,
   "metadata": {
    "collapsed": false
   },
   "outputs": [],
   "source": [
    "import csv\n",
    "from sklearn.svm import LinearSVC\n",
    "from sklearn.preprocessing import OneHotEncoder\n",
    "from sklearn.pipeline import Pipeline"
   ]
  },
  {
   "cell_type": "code",
   "execution_count": 29,
   "metadata": {
    "collapsed": false
   },
   "outputs": [],
   "source": [
    "with open('data/adult.data') as f:\n",
    "    train_data = list(csv.reader(f, skipinitialspace=True))\n",
    "with open('data/adult.test') as f:\n",
    "    test_data = list(csv.reader(f, skipinitialspace=True))"
   ]
  },
  {
   "cell_type": "code",
   "execution_count": 119,
   "metadata": {
    "collapsed": false
   },
   "outputs": [],
   "source": [
    "def parse(data):\n",
    "    X = [m[:-1] for m in data if len(m) > 1]\n",
    "    y = [1 if m[-1] == '>50K' or m[-1] == '>50K.' else 0 for m in data if len(m) > 1]\n",
    "    assert(len(X) == len(y))\n",
    "    return X, y"
   ]
  },
  {
   "cell_type": "code",
   "execution_count": 59,
   "metadata": {
    "collapsed": false
   },
   "outputs": [],
   "source": [
    "def convert_categorical(items, features, other_converter=int):\n",
    "    feature_map = {c: sorted(list(set(item[c] for item in items))) for c in features}\n",
    "    output = []\n",
    "    for item in items:\n",
    "        new_item = []\n",
    "        for i in range(len(item)):\n",
    "            if i in features:\n",
    "                new_item.append(feature_map[i].index(item[i]))\n",
    "            else:\n",
    "                new_item.append(other_converter(item[i]))\n",
    "        output.append(new_item)\n",
    "    return output"
   ]
  },
  {
   "cell_type": "code",
   "execution_count": 44,
   "metadata": {
    "collapsed": true
   },
   "outputs": [],
   "source": [
    "categorical_features = [1, 3, 5, 6, 7, 8, 9, 13]"
   ]
  },
  {
   "cell_type": "code",
   "execution_count": 122,
   "metadata": {
    "collapsed": false
   },
   "outputs": [],
   "source": [
    "train_X, train_y = parse(train_data)\n",
    "test_X, test_y = parse(test_data)\n",
    "\n",
    "converted = convert_categorical(train_X + test_X, categorical_features)\n",
    "train_X = converted[:len(train_X)]\n",
    "test_X = converted[len(train_X):]\n",
    "\n",
    "encoder = OneHotEncoder(categorical_features=categorical_features)\n",
    "train_X = encoder.fit_transform(train_X)\n",
    "test_X = encoder.transform(test_X)"
   ]
  },
  {
   "cell_type": "code",
   "execution_count": 123,
   "metadata": {
    "collapsed": false
   },
   "outputs": [
    {
     "data": {
      "text/plain": [
       "LinearSVC(C=1.0, class_weight=None, dual=True, fit_intercept=True,\n",
       "     intercept_scaling=1, loss='squared_hinge', max_iter=1000,\n",
       "     multi_class='ovr', penalty='l2', random_state=None, tol=0.0001,\n",
       "     verbose=0)"
      ]
     },
     "execution_count": 123,
     "metadata": {},
     "output_type": "execute_result"
    }
   ],
   "source": [
    "clf = LinearSVC()\n",
    "clf.fit(train_X, train_y)"
   ]
  },
  {
   "cell_type": "code",
   "execution_count": 124,
   "metadata": {
    "collapsed": false
   },
   "outputs": [
    {
     "data": {
      "text/plain": [
       "0.79067624838769113"
      ]
     },
     "execution_count": 124,
     "metadata": {},
     "output_type": "execute_result"
    }
   ],
   "source": [
    "clf.score(test_X, test_y)"
   ]
  },
  {
   "cell_type": "code",
   "execution_count": 128,
   "metadata": {
    "collapsed": false,
    "scrolled": true
   },
   "outputs": [
    {
     "name": "stdout",
     "output_type": "stream",
     "text": [
      "[[ -9.10930116e-05   2.17169032e-05   6.36478905e-06  -7.64528951e-08\n",
      "   -3.38837324e-04   4.03661565e-05  -2.74332888e-05  -8.08005821e-06\n",
      "   -1.12244049e-06  -3.90058220e-05  -5.36121301e-05  -2.34280166e-05\n",
      "   -3.02644752e-06  -4.40023556e-06  -2.71793990e-05  -1.53867370e-05\n",
      "   -1.38777075e-05  -1.41025090e-05   1.03171180e-04   2.68085088e-05\n",
      "   -2.24926096e-04   7.88442848e-05  -8.84732324e-07   3.74743478e-05\n",
      "   -2.24663216e-04  -1.82376976e-04   3.01254504e-06   4.57758013e-04\n",
      "   -1.79659305e-05  -5.81182192e-04  -3.59192540e-05  -4.15209327e-05\n",
      "   -9.11694645e-05  -9.46553384e-05  -1.20076228e-07  -4.44705247e-05\n",
      "    1.40250063e-04  -4.44563867e-05  -6.25146561e-05  -3.67396424e-05\n",
      "   -2.03138331e-04  -6.37499781e-06   7.89141468e-05   1.55207500e-05\n",
      "   -1.71392007e-05  -4.31264110e-06  -2.77884270e-05   4.10263662e-04\n",
      "   -3.80685224e-04  -3.82984798e-05  -2.76557190e-04  -1.66855410e-04\n",
      "    5.39379129e-05  -6.36022031e-05  -5.02131369e-06  -4.62569568e-05\n",
      "   -3.45875478e-06  -2.79855499e-04  -4.52988648e-04   5.47939200e-05\n",
      "   -3.79679993e-06  -1.55113291e-07  -2.84320131e-06   3.25491193e-07\n",
      "   -7.01249438e-07   6.19836379e-07  -1.15933780e-06  -2.49574282e-08\n",
      "   -1.24718436e-06   5.62120989e-06   2.42610462e-06  -1.77552866e-06\n",
      "    4.16112210e-07  -4.98685256e-07  -2.98499436e-07  -1.68808386e-06\n",
      "    3.13472304e-07  -1.18445947e-08   6.11820175e-08   2.44120513e-06\n",
      "    8.05466157e-07  -5.82113307e-08   1.89592403e-06  -9.53346112e-07\n",
      "    5.60385359e-06  -8.91892502e-08  -2.49192463e-06  -3.04336287e-07\n",
      "   -2.33599457e-07  -1.43395063e-07   3.71983371e-06   1.40302443e-08\n",
      "   -6.35126135e-07  -8.93076051e-07  -7.87507839e-09  -2.96544307e-06\n",
      "    1.25352962e-06  -1.36811903e-06  -2.71241393e-07  -3.97700878e-04\n",
      "   -1.77385464e-06   3.78122459e-07  -4.79530717e-03  -1.87178058e-06\n",
      "   -2.15906402e-03   1.04303744e-04   3.62392362e-04  -5.94738285e-03]]\n",
      "[-0.00039819]\n"
     ]
    }
   ],
   "source": [
    "print(clf.coef_)\n",
    "print(clf.intercept_)"
   ]
  },
  {
   "cell_type": "code",
   "execution_count": 125,
   "metadata": {
    "collapsed": false
   },
   "outputs": [],
   "source": [
    "# Save converted data\n",
    "with open('data/adult.data.csv', 'w') as f:\n",
    "    csv.writer(f).writerows(train_X.toarray())\n",
    "with open('data/adult.data.labels.csv', 'w') as f:\n",
    "    csv.writer(f).writerow(train_y)\n",
    "with open('data/adult.test.csv', 'w') as f:\n",
    "    csv.writer(f).writerows(test_X.toarray())\n",
    "with open('data/adult.test.labels.csv', 'w') as f:\n",
    "    csv.writer(f).writerow(test_y)"
   ]
  }
 ],
 "metadata": {
  "kernelspec": {
   "display_name": "Python 3",
   "language": "python",
   "name": "python3"
  },
  "language_info": {
   "codemirror_mode": {
    "name": "ipython",
    "version": 3
   },
   "file_extension": ".py",
   "mimetype": "text/x-python",
   "name": "python",
   "nbconvert_exporter": "python",
   "pygments_lexer": "ipython3",
   "version": "3.5.3"
  }
 },
 "nbformat": 4,
 "nbformat_minor": 2
}
